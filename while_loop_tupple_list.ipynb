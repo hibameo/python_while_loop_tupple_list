{
  "nbformat": 4,
  "nbformat_minor": 0,
  "metadata": {
    "colab": {
      "provenance": [],
      "include_colab_link": true
    },
    "kernelspec": {
      "name": "python3",
      "display_name": "Python 3"
    },
    "language_info": {
      "name": "python"
    }
  },
  "cells": [
    {
      "cell_type": "markdown",
      "metadata": {
        "id": "view-in-github",
        "colab_type": "text"
      },
      "source": [
        "<a href=\"https://colab.research.google.com/github/hibameo/python_while_loop_tupple_list/blob/main/while_loop_tupple_list.ipynb\" target=\"_parent\"><img src=\"https://colab.research.google.com/assets/colab-badge.svg\" alt=\"Open In Colab\"/></a>"
      ]
    },
    {
      "cell_type": "markdown",
      "source": [
        "***while loop***"
      ],
      "metadata": {
        "id": "U6Xe44wqHpVy"
      }
    },
    {
      "cell_type": "code",
      "execution_count": null,
      "metadata": {
        "colab": {
          "base_uri": "https://localhost:8080/"
        },
        "id": "hnHPBlNXHj74",
        "outputId": "687399c7-8090-42e2-d35e-92547cc08dcb"
      },
      "outputs": [
        {
          "output_type": "stream",
          "name": "stdout",
          "text": [
            "5\n"
          ]
        }
      ],
      "source": [
        "star=5\n",
        "while star==5:\n",
        "  print(star)\n",
        "  star=star-1"
      ]
    },
    {
      "cell_type": "markdown",
      "source": [
        "***tupple***"
      ],
      "metadata": {
        "id": "LwCo8dQaVOV_"
      }
    },
    {
      "cell_type": "code",
      "source": [
        "names=(\"hiba\",\"nawal\",\"sumbul\",\"haniya\",\"tasbiha\") # tuple is immutable\n",
        "print(names)\n",
        "print(names[4])\n"
      ],
      "metadata": {
        "colab": {
          "base_uri": "https://localhost:8080/"
        },
        "id": "pi40jubKVSFG",
        "outputId": "48ad442d-1d48-4325-b628-da80f99b2929"
      },
      "execution_count": null,
      "outputs": [
        {
          "output_type": "stream",
          "name": "stdout",
          "text": [
            "('hiba', 'nawal', 'sumbul', 'haniya', 'tasbiha')\n",
            "tasbiha\n"
          ]
        }
      ]
    },
    {
      "cell_type": "markdown",
      "source": [
        "***list***"
      ],
      "metadata": {
        "id": "Zw9lerpPb4fC"
      }
    },
    {
      "cell_type": "code",
      "source": [
        "number=[1,3,9,50,83,45] #list is mutable\n",
        "print(number)\n",
        "print(number[2])\n",
        "number[2] = 70\n",
        "print(number[2])"
      ],
      "metadata": {
        "colab": {
          "base_uri": "https://localhost:8080/"
        },
        "id": "-fgerwkKb4D1",
        "outputId": "8f98161f-36b6-4790-e59e-491773047028"
      },
      "execution_count": null,
      "outputs": [
        {
          "output_type": "stream",
          "name": "stdout",
          "text": [
            "[1, 3, 9, 50, 83, 45]\n",
            "9\n",
            "70\n"
          ]
        }
      ]
    }
  ]
}